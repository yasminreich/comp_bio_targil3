{
  "cells": [
    {
      "cell_type": "markdown",
      "metadata": {
        "colab_type": "text",
        "id": "view-in-github"
      },
      "source": [
        "<a href=\"https://colab.research.google.com/github/yasminreich/comp_bio_targil3/blob/population/Population.ipynb\" target=\"_parent\"><img src=\"https://colab.research.google.com/assets/colab-badge.svg\" alt=\"Open In Colab\"/></a>"
      ]
    },
    {
      "cell_type": "code",
      "execution_count": 21,
      "metadata": {},
      "outputs": [],
      "source": [
        "import Individual\n",
        "import numpy as np"
      ]
    },
    {
      "cell_type": "code",
      "execution_count": 22,
      "metadata": {
        "id": "-w-empsCHHeQ"
      },
      "outputs": [],
      "source": [
        "class Population:\n",
        "    def __init__(self, size, train_data, train_labels):\n",
        "        self.size = size\n",
        "        self.popy = []\n",
        "        \n",
        "        self.train_data = train_data\n",
        "        self.train_labels = train_labels\n",
        "        self.__createInitialPop()\n",
        "\n",
        "    \n",
        "    def __createInitialPop(self):\n",
        "        inputSize = self.train_data.shape[1]\n",
        "        for i in range(self.size):\n",
        "\n",
        "            nn = Individual.NN(inputSize, 3, [4, 8, 32], self.train_data, self.train_labels)\n",
        "            self.popy.append(nn)\n",
        "\n",
        "\n"
      ]
    },
    {
      "cell_type": "code",
      "execution_count": 23,
      "metadata": {},
      "outputs": [],
      "source": [
        "def read_data(file_path):\n",
        "    samples = []\n",
        "    labels = []\n",
        "\n",
        "    with open(file_path, 'r') as file:\n",
        "        for line in file:\n",
        "            data = line.strip().split('   ')\n",
        "            if len(data) >= 2:\n",
        "                sample = [int(bit) for bit in data[0].strip() if bit.isdigit()]\n",
        "                label = int(data[1])\n",
        "                \n",
        "                samples.append(np.array(sample).reshape(len(sample),1 ))\n",
        "                labels.append(label)\n",
        "\n",
        "    return np.array(samples), np.array(labels)"
      ]
    },
    {
      "cell_type": "code",
      "execution_count": 26,
      "metadata": {},
      "outputs": [
        {
          "name": "stdout",
          "output_type": "stream",
          "text": [
            "(0.0068143100511073255, 0.16771488469601678)\n"
          ]
        }
      ],
      "source": [
        "train_data, train_labels = read_data(\"nn0.txt\")\n",
        "\n",
        "\n",
        "p = Population(4, train_data, train_labels)\n",
        "print(p.popy[0].test())\n"
      ]
    }
  ],
  "metadata": {
    "colab": {
      "authorship_tag": "ABX9TyOLi5Cwhf5DIihjki39Ia6m",
      "include_colab_link": true,
      "provenance": []
    },
    "interpreter": {
      "hash": "aee8b7b246df8f9039afb4144a1f6fd8d2ca17a180786b69acc140d282b71a49"
    },
    "kernelspec": {
      "display_name": "Python 3.10.4 64-bit",
      "language": "python",
      "name": "python3"
    },
    "language_info": {
      "codemirror_mode": {
        "name": "ipython",
        "version": 3
      },
      "file_extension": ".py",
      "mimetype": "text/x-python",
      "name": "python",
      "nbconvert_exporter": "python",
      "pygments_lexer": "ipython3",
      "version": "3.10.4"
    }
  },
  "nbformat": 4,
  "nbformat_minor": 0
}
