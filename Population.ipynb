{
  "cells": [
    {
      "cell_type": "markdown",
      "metadata": {
        "colab_type": "text",
        "id": "view-in-github"
      },
      "source": [
        "<a href=\"https://colab.research.google.com/github/yasminreich/comp_bio_targil3/blob/population/Population.ipynb\" target=\"_parent\"><img src=\"https://colab.research.google.com/assets/colab-badge.svg\" alt=\"Open In Colab\"/></a>"
      ]
    },
    {
      "cell_type": "code",
      "execution_count": 1,
      "metadata": {},
      "outputs": [],
      "source": [
        "import Individual\n",
        "import numpy as np\n",
        "import math"
      ]
    },
    {
      "cell_type": "code",
      "execution_count": 2,
      "metadata": {
        "id": "-w-empsCHHeQ"
      },
      "outputs": [],
      "source": [
        "class Population:\n",
        "    def __init__(self, train_data, train_labels, size, F1Threshold):\n",
        "        self.size = size\n",
        "        self.population = []\n",
        "        self.numOfLayers = 3\n",
        "        self.layersSizes = [4, 8, 32]\n",
        "        self.train_data = train_data\n",
        "        self.train_labels = train_labels\n",
        "        self.F1Threshold = F1Threshold\n",
        "        \n",
        "        self.__createInitialPop()\n",
        "\n",
        "    \n",
        "    def __createInitialPop(self):\n",
        "        inputSize = self.train_data.shape[2]\n",
        "        for i in range(self.size):\n",
        "\n",
        "            nn = Individual.NN(inputSize, self.F1Threshold, self.numOfLayers, self.layersSizes, self.train_data, self.train_labels)\n",
        "            self.population.append(nn)\n",
        "    \n",
        "    def runTest(self):\n",
        "        for p in self.population:\n",
        "            p.test()\n",
        "            p.calculateFitness()\n",
        "\n",
        "            \n",
        "    def dispachBestPeople(self, bestPeople):\n",
        "\n",
        "\n",
        "        newPop = []\n",
        "        for person in bestPeople:\n",
        "            # create new copies of the best individual (5% of the new population)\n",
        "            percent = person.fitness/10\n",
        "            amount = math.ceil((self.size/100)*percent)\n",
        "            for i in range(amount):\n",
        "                newPop.append(self.bestPerson.deepcopy())\n",
        "        \n",
        "        return newPop\n",
        "\n",
        "    # remove individuals with low fitness\n",
        "    def __naturalSelection(self, percent):\n",
        "\n",
        "        # devidor = self.__getDevidor(percentileNum)\n",
        "        temp = []\n",
        "        people_to_remove = int(self.size * percent)\n",
        "        temp = self.population[:self.size - people_to_remove]\n",
        "        self.population = temp\n",
        "    \n",
        "\n",
        "    def nextGen(self, deathThreshold):\n",
        "        self.runTest()\n",
        "        self.population = sorted(self.population, key=lambda p: p.fitness, reverse=True)\n",
        "        self.bestPerson = self.population[0]\n",
        "        self.__naturalSelection(deathThreshold)\n",
        "\n"
      ]
    },
    {
      "cell_type": "code",
      "execution_count": 3,
      "metadata": {},
      "outputs": [],
      "source": [
        "def read_data(file_path):\n",
        "    samples = []\n",
        "    labels = []\n",
        "\n",
        "    with open(file_path, 'r') as file:\n",
        "        for line in file:\n",
        "            data = line.strip().split('   ')\n",
        "            if len(data) >= 2:\n",
        "                sample = [int(bit) for bit in data[0].strip() if bit.isdigit()]\n",
        "                label = int(data[1])\n",
        "                \n",
        "                samples.append(np.array(sample).reshape(1, len(sample)))\n",
        "                labels.append(label)\n",
        "\n",
        "    return np.array(samples), np.array(labels)"
      ]
    },
    {
      "cell_type": "code",
      "execution_count": 4,
      "metadata": {},
      "outputs": [
        {
          "name": "stdout",
          "output_type": "stream",
          "text": [
            "\n"
          ]
        }
      ],
      "source": [
        "train_data, train_labels = read_data(\"nn0.txt\")\n",
        "\n",
        "popy = Population(train_data, train_labels, size=60, F1Threshold=0.3)\n",
        "popy.nextGen(deathThreshold=0.2)\n",
        "print()\n"
      ]
    }
  ],
  "metadata": {
    "colab": {
      "authorship_tag": "ABX9TyOLi5Cwhf5DIihjki39Ia6m",
      "include_colab_link": true,
      "provenance": []
    },
    "interpreter": {
      "hash": "aee8b7b246df8f9039afb4144a1f6fd8d2ca17a180786b69acc140d282b71a49"
    },
    "kernelspec": {
      "display_name": "Python 3.10.4 64-bit",
      "language": "python",
      "name": "python3"
    },
    "language_info": {
      "codemirror_mode": {
        "name": "ipython",
        "version": 3
      },
      "file_extension": ".py",
      "mimetype": "text/x-python",
      "name": "python",
      "nbconvert_exporter": "python",
      "pygments_lexer": "ipython3",
      "version": "3.10.4"
    }
  },
  "nbformat": 4,
  "nbformat_minor": 0
}
