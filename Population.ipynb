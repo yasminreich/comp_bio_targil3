{
  "cells": [
    {
      "cell_type": "markdown",
      "metadata": {
        "colab_type": "text",
        "id": "view-in-github"
      },
      "source": [
        "<a href=\"https://colab.research.google.com/github/yasminreich/comp_bio_targil3/blob/population/Population.ipynb\" target=\"_parent\"><img src=\"https://colab.research.google.com/assets/colab-badge.svg\" alt=\"Open In Colab\"/></a>"
      ]
    },
    {
      "cell_type": "code",
      "execution_count": 15,
      "metadata": {},
      "outputs": [],
      "source": [
        "import Individual\n",
        "import Mutation\n",
        "import numpy as np\n",
        "import math, random"
      ]
    },
    {
      "cell_type": "code",
      "execution_count": 19,
      "metadata": {
        "id": "-w-empsCHHeQ"
      },
      "outputs": [],
      "source": [
        "class Population:\n",
        "    def __init__(self, train_data, train_labels, size, F1Threshold):\n",
        "        self.size = size\n",
        "        self.population = []\n",
        "        self.numOfLayers = 3\n",
        "        self.layersSizes = [4, 8, 32]\n",
        "        self.train_data = train_data\n",
        "        self.train_labels = train_labels\n",
        "        self.F1Threshold = F1Threshold\n",
        "        \n",
        "        self.__createInitialPop()\n",
        "\n",
        "    \n",
        "    def __createInitialPop(self):\n",
        "        inputSize = self.train_data.shape[2]\n",
        "        for i in range(self.size):\n",
        "            nn = Individual.NN(inputSize, self.F1Threshold, self.numOfLayers, self.layersSizes, self.train_data, self.train_labels)\n",
        "            self.population.append(nn)\n",
        "    \n",
        "    def runTest(self):\n",
        "        for p in self.population:\n",
        "            p.test()\n",
        "            p.calculateFitness()\n",
        "\n",
        "\n",
        "    def dispachBestPeople(self, bestPeople):\n",
        "\n",
        "        newPop = []\n",
        "        for person in bestPeople:\n",
        "            # create new copies of the best individual (5% of the new population)\n",
        "            percent = person.fitness/10\n",
        "            amount = math.ceil((self.size/100)*percent)\n",
        "            for i in range(amount):\n",
        "                newPop.append(self.person.deepcopy())\n",
        "        \n",
        "        return newPop\n",
        "\n",
        "    # remove individuals with low fitness\n",
        "    def __naturalSelection(self, percent):\n",
        "\n",
        "        # devidor = self.__getDevidor(percentileNum)\n",
        "        temp = []\n",
        "        people_to_remove = int(self.size * percent)\n",
        "        temp = self.population[:self.size - people_to_remove]\n",
        "        self.population = temp\n",
        "\n",
        "                \n",
        "\n",
        "    def nextGen(self, deathThreshold, mutationChance):\n",
        "        self.runTest()\n",
        "        self.population = sorted(self.population, key=lambda p: p.fitness, reverse=True)\n",
        "        \n",
        "        self.bestPerson = self.population[0]\n",
        "        self.__naturalSelection(deathThreshold)\n",
        "        \n",
        "        \n",
        "\n",
        "        newPopulation = self.dispachBestPeople(self.population[:5])\n",
        "\n",
        "\n",
        "        popForCros = []\n",
        "        # create vector of people for the crossover\n",
        "        for person in self.population:\n",
        "            for _ in range(int(person.fitness)):\n",
        "                popForCros.append(person.deepcopy())\n",
        "\n",
        "        while True:\n",
        "            parent1, parent2 = random.sample(popForCros, 2)\n",
        "            child1, child2 = Mutation.crossover(parent1, parent2)\n",
        "            newPopulation.append(child1)\n",
        "            if len(newPopulation) == self.size:\n",
        "                break\n",
        "            newPopulation.append(child2)\n",
        "            if len(newPopulation) == self.size:\n",
        "                break\n",
        "        \n",
        "        self.population = newPopulation\n",
        "\n",
        "        for person in self.population:\n",
        "            if random.random() < mutationChance:\n",
        "                Mutation.mutate_individual(person)\n",
        "                person.calculateFitness()\n",
        "\n",
        "\n",
        "\n",
        "\n"
      ]
    },
    {
      "cell_type": "code",
      "execution_count": 17,
      "metadata": {},
      "outputs": [],
      "source": [
        "def read_data(file_path):\n",
        "    samples = []\n",
        "    labels = []\n",
        "\n",
        "    with open(file_path, 'r') as file:\n",
        "        for line in file:\n",
        "            data = line.strip().split('   ')\n",
        "            if len(data) >= 2:\n",
        "                sample = [int(bit) for bit in data[0].strip() if bit.isdigit()]\n",
        "                label = int(data[1])\n",
        "                \n",
        "                samples.append(np.array(sample).reshape(1, len(sample)))\n",
        "                labels.append(label)\n",
        "\n",
        "    return np.array(samples), np.array(labels)"
      ]
    },
    {
      "cell_type": "code",
      "execution_count": 18,
      "metadata": {},
      "outputs": [
        {
          "ename": "AttributeError",
          "evalue": "'NN' object has no attribute 'deepcopy'",
          "output_type": "error",
          "traceback": [
            "\u001b[0;31m---------------------------------------------------------------------------\u001b[0m",
            "\u001b[0;31mAttributeError\u001b[0m                            Traceback (most recent call last)",
            "\u001b[1;32m/Users/chenbistra/Documents/repos/comp_bio_targil3/Population.ipynb Cell 5'\u001b[0m in \u001b[0;36m<cell line: 10>\u001b[0;34m()\u001b[0m\n\u001b[1;32m     <a href='vscode-notebook-cell:/Users/chenbistra/Documents/repos/comp_bio_targil3/Population.ipynb#ch0000004?line=9'>10</a>\u001b[0m \u001b[39mwhile\u001b[39;00m convergenceCount \u001b[39m<\u001b[39m convergenceMax:\n\u001b[1;32m     <a href='vscode-notebook-cell:/Users/chenbistra/Documents/repos/comp_bio_targil3/Population.ipynb#ch0000004?line=10'>11</a>\u001b[0m     generationCounter \u001b[39m+\u001b[39m\u001b[39m=\u001b[39m \u001b[39m1\u001b[39m\n\u001b[0;32m---> <a href='vscode-notebook-cell:/Users/chenbistra/Documents/repos/comp_bio_targil3/Population.ipynb#ch0000004?line=11'>12</a>\u001b[0m     popy\u001b[39m.\u001b[39;49mnextGen(deathThreshold\u001b[39m=\u001b[39;49mdeathThreshold, mutationChance\u001b[39m=\u001b[39;49mmutationChance)\n\u001b[1;32m     <a href='vscode-notebook-cell:/Users/chenbistra/Documents/repos/comp_bio_targil3/Population.ipynb#ch0000004?line=12'>13</a>\u001b[0m     \u001b[39mprint\u001b[39m(\u001b[39m\"\u001b[39m\u001b[39mbest person fitness:\u001b[39m\u001b[39m\"\u001b[39m, \u001b[39mfloat\u001b[39m(popy\u001b[39m.\u001b[39mbestPerson\u001b[39m.\u001b[39mfitness))\n\u001b[1;32m     <a href='vscode-notebook-cell:/Users/chenbistra/Documents/repos/comp_bio_targil3/Population.ipynb#ch0000004?line=13'>14</a>\u001b[0m     \u001b[39mif\u001b[39;00m popy\u001b[39m.\u001b[39mbestPerson\u001b[39m.\u001b[39mfitness \u001b[39m==\u001b[39m lastBestFit:\n",
            "\u001b[1;32m/Users/chenbistra/Documents/repos/comp_bio_targil3/Population.ipynb Cell 3'\u001b[0m in \u001b[0;36mPopulation.nextGen\u001b[0;34m(self, deathThreshold, mutationChance)\u001b[0m\n\u001b[1;32m     <a href='vscode-notebook-cell:/Users/chenbistra/Documents/repos/comp_bio_targil3/Population.ipynb#ch0000002?line=53'>54</a>\u001b[0m \u001b[39mself\u001b[39m\u001b[39m.\u001b[39mbestPerson \u001b[39m=\u001b[39m \u001b[39mself\u001b[39m\u001b[39m.\u001b[39mpopulation[\u001b[39m0\u001b[39m]\n\u001b[1;32m     <a href='vscode-notebook-cell:/Users/chenbistra/Documents/repos/comp_bio_targil3/Population.ipynb#ch0000002?line=54'>55</a>\u001b[0m \u001b[39mself\u001b[39m\u001b[39m.\u001b[39m__naturalSelection(deathThreshold)\n\u001b[0;32m---> <a href='vscode-notebook-cell:/Users/chenbistra/Documents/repos/comp_bio_targil3/Population.ipynb#ch0000002?line=56'>57</a>\u001b[0m newPopulation \u001b[39m=\u001b[39m \u001b[39mself\u001b[39;49m\u001b[39m.\u001b[39;49mdispachBestPeople(\u001b[39mself\u001b[39;49m\u001b[39m.\u001b[39;49mpopulation[:\u001b[39m5\u001b[39;49m])\n\u001b[1;32m     <a href='vscode-notebook-cell:/Users/chenbistra/Documents/repos/comp_bio_targil3/Population.ipynb#ch0000002?line=59'>60</a>\u001b[0m popForCros \u001b[39m=\u001b[39m []\n\u001b[1;32m     <a href='vscode-notebook-cell:/Users/chenbistra/Documents/repos/comp_bio_targil3/Population.ipynb#ch0000002?line=60'>61</a>\u001b[0m \u001b[39m# create vector of people for the crossover\u001b[39;00m\n",
            "\u001b[1;32m/Users/chenbistra/Documents/repos/comp_bio_targil3/Population.ipynb Cell 3'\u001b[0m in \u001b[0;36mPopulation.dispachBestPeople\u001b[0;34m(self, bestPeople)\u001b[0m\n\u001b[1;32m     <a href='vscode-notebook-cell:/Users/chenbistra/Documents/repos/comp_bio_targil3/Population.ipynb#ch0000002?line=33'>34</a>\u001b[0m     amount \u001b[39m=\u001b[39m math\u001b[39m.\u001b[39mceil((\u001b[39mself\u001b[39m\u001b[39m.\u001b[39msize\u001b[39m/\u001b[39m\u001b[39m100\u001b[39m)\u001b[39m*\u001b[39mpercent)\n\u001b[1;32m     <a href='vscode-notebook-cell:/Users/chenbistra/Documents/repos/comp_bio_targil3/Population.ipynb#ch0000002?line=34'>35</a>\u001b[0m     \u001b[39mfor\u001b[39;00m i \u001b[39min\u001b[39;00m \u001b[39mrange\u001b[39m(amount):\n\u001b[0;32m---> <a href='vscode-notebook-cell:/Users/chenbistra/Documents/repos/comp_bio_targil3/Population.ipynb#ch0000002?line=35'>36</a>\u001b[0m         newPop\u001b[39m.\u001b[39mappend(\u001b[39mself\u001b[39;49m\u001b[39m.\u001b[39;49mbestPerson\u001b[39m.\u001b[39;49mdeepcopy())\n\u001b[1;32m     <a href='vscode-notebook-cell:/Users/chenbistra/Documents/repos/comp_bio_targil3/Population.ipynb#ch0000002?line=37'>38</a>\u001b[0m \u001b[39mreturn\u001b[39;00m newPop\n",
            "\u001b[0;31mAttributeError\u001b[0m: 'NN' object has no attribute 'deepcopy'"
          ]
        }
      ],
      "source": [
        "train_data, train_labels = read_data(\"nn0.txt\")\n",
        "\n",
        "popy = Population(train_data, train_labels, size=60, F1Threshold=0.3)\n",
        "deathThreshold=0.2\n",
        "mutationChance=0.6\n",
        "convergenceMax = 10\n",
        "convergenceCount = 0\n",
        "generationCounter = 0\n",
        "lastBestFit = 0\n",
        "while convergenceCount < convergenceMax:\n",
        "    generationCounter += 1\n",
        "    popy.nextGen(deathThreshold=deathThreshold, mutationChance=mutationChance)\n",
        "    print(\"best person fitness:\", float(popy.bestPerson.fitness))\n",
        "    if popy.bestPerson.fitness == lastBestFit:\n",
        "        convergenceCount += 1\n",
        "    else:\n",
        "        convergenceCount = 0\n",
        "    lastBestFit = popy.bestPerson.fitness\n",
        "\n",
        "print()\n"
      ]
    }
  ],
  "metadata": {
    "colab": {
      "authorship_tag": "ABX9TyOLi5Cwhf5DIihjki39Ia6m",
      "include_colab_link": true,
      "provenance": []
    },
    "interpreter": {
      "hash": "aee8b7b246df8f9039afb4144a1f6fd8d2ca17a180786b69acc140d282b71a49"
    },
    "kernelspec": {
      "display_name": "Python 3.10.4 64-bit",
      "language": "python",
      "name": "python3"
    },
    "language_info": {
      "codemirror_mode": {
        "name": "ipython",
        "version": 3
      },
      "file_extension": ".py",
      "mimetype": "text/x-python",
      "name": "python",
      "nbconvert_exporter": "python",
      "pygments_lexer": "ipython3",
      "version": "3.10.4"
    }
  },
  "nbformat": 4,
  "nbformat_minor": 0
}
